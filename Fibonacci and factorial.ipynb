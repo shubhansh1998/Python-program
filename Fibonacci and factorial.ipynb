{
 "cells": [
  {
   "cell_type": "markdown",
   "id": "cea6c7e1",
   "metadata": {},
   "source": [
    "### Write a program to generate Fibonnaci Series"
   ]
  },
  {
   "cell_type": "code",
   "execution_count": 1,
   "id": "eff4435a",
   "metadata": {},
   "outputs": [
    {
     "name": "stdout",
     "output_type": "stream",
     "text": [
      "Enter number of terms in series :-5\n",
      "0\n",
      "1\n",
      "1\n",
      "2\n",
      "3\n"
     ]
    }
   ],
   "source": [
    "num=int(input(\"Enter number of terms in series :-\"))\n",
    "n1=0\n",
    "n2=1\n",
    "count=0\n",
    "if num<=0:\n",
    "    print(\"Please enter the positive number\")\n",
    "elif num==1:\n",
    "    print(n1)\n",
    "else:\n",
    "    while count<num:\n",
    "        print(n1)\n",
    "        nth=n1+n2\n",
    "        n1=n2\n",
    "        n2=nth\n",
    "        count=count+1"
   ]
  },
  {
   "cell_type": "markdown",
   "id": "6567ee80",
   "metadata": {},
   "source": [
    "### Write a program for factorial number"
   ]
  },
  {
   "cell_type": "code",
   "execution_count": 29,
   "id": "760129ca",
   "metadata": {},
   "outputs": [
    {
     "name": "stdout",
     "output_type": "stream",
     "text": [
      "enter the number 5\n",
      "Factorial of 5 is 120\n"
     ]
    }
   ],
   "source": [
    "# Using iteration\n",
    "def factorial(n):\n",
    "    if n<0:\n",
    "        return 0\n",
    "    elif n==0 or n==1:\n",
    "        return 1\n",
    "    else:\n",
    "        fact=1\n",
    "        while(n>1):\n",
    "            fact=fact*n\n",
    "            n=n-1\n",
    "        return fact\n",
    "    \n",
    "num=int(input('enter the number '))\n",
    "print(f\"Factorial of {num} is {factorial(num)}\")    "
   ]
  },
  {
   "cell_type": "code",
   "execution_count": 34,
   "id": "06ed5fd6",
   "metadata": {},
   "outputs": [
    {
     "data": {
      "text/plain": [
       "120"
      ]
     },
     "execution_count": 34,
     "metadata": {},
     "output_type": "execute_result"
    }
   ],
   "source": [
    "## using recursive\n",
    "def factorial1(n):\n",
    "    if n==1 or n==0:\n",
    "        return 1\n",
    "    else:\n",
    "        return n*factorial1(n-1)\n",
    "factorial(5)"
   ]
  },
  {
   "cell_type": "code",
   "execution_count": 35,
   "id": "06310eb7",
   "metadata": {},
   "outputs": [],
   "source": []
  },
  {
   "cell_type": "code",
   "execution_count": null,
   "id": "4543cdd2",
   "metadata": {},
   "outputs": [],
   "source": []
  },
  {
   "cell_type": "code",
   "execution_count": null,
   "id": "b7462b8a",
   "metadata": {},
   "outputs": [],
   "source": []
  },
  {
   "cell_type": "code",
   "execution_count": null,
   "id": "18237a51",
   "metadata": {},
   "outputs": [],
   "source": []
  }
 ],
 "metadata": {
  "kernelspec": {
   "display_name": "Python 3 (ipykernel)",
   "language": "python",
   "name": "python3"
  },
  "language_info": {
   "codemirror_mode": {
    "name": "ipython",
    "version": 3
   },
   "file_extension": ".py",
   "mimetype": "text/x-python",
   "name": "python",
   "nbconvert_exporter": "python",
   "pygments_lexer": "ipython3",
   "version": "3.9.12"
  }
 },
 "nbformat": 4,
 "nbformat_minor": 5
}
