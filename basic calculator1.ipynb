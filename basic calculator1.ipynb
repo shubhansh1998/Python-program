{
 "cells": [
  {
   "cell_type": "code",
   "execution_count": 1,
   "id": "c71b7bb6",
   "metadata": {},
   "outputs": [
    {
     "name": "stdout",
     "output_type": "stream",
     "text": [
      "Enter (1) for addition\n",
      "Enter (2) for addition\n",
      "Enter (3) for addition\n",
      "Enter (4) for division\n",
      "Enter 1st number2\n",
      "Emnter 2nd number2\n",
      "Enter operation1\n",
      "4\n"
     ]
    }
   ],
   "source": [
    "def addition(a,b):\n",
    "    print(a+b)\n",
    "def subtraction(a,b):\n",
    "    print(a-b)\n",
    "def multiplication(a,b):\n",
    "    print(a*b)\n",
    "def division(a,b):\n",
    "    print(a/b)\n",
    "print(\"Enter (1) for addition\")\n",
    "print(\"Enter (2) for addition\")\n",
    "print(\"Enter (3) for addition\")\n",
    "print(\"Enter (4) for division\")\n",
    "num1=int(input(\"Enter 1st number\"))\n",
    "num2=int(input(\"Emnter 2nd number\"))\n",
    "k=int(input(\"Enter operation\"))\n",
    "if k==1:\n",
    "    addition(num1,num2)\n",
    "elif k==2:\n",
    "    subtraction(num1,num2)\n",
    "elif k==3:\n",
    "    multiplication(num1,num2)\n",
    "elif k==4:\n",
    "    division(num1,num2)\n",
    "else:\n",
    "    print(\"Invalid choice\")\n",
    "    "
   ]
  },
  {
   "cell_type": "code",
   "execution_count": null,
   "id": "3d8a1f73",
   "metadata": {},
   "outputs": [],
   "source": []
  },
  {
   "cell_type": "code",
   "execution_count": null,
   "id": "d33c8186",
   "metadata": {},
   "outputs": [],
   "source": []
  }
 ],
 "metadata": {
  "kernelspec": {
   "display_name": "Python 3 (ipykernel)",
   "language": "python",
   "name": "python3"
  },
  "language_info": {
   "codemirror_mode": {
    "name": "ipython",
    "version": 3
   },
   "file_extension": ".py",
   "mimetype": "text/x-python",
   "name": "python",
   "nbconvert_exporter": "python",
   "pygments_lexer": "ipython3",
   "version": "3.9.12"
  }
 },
 "nbformat": 4,
 "nbformat_minor": 5
}
