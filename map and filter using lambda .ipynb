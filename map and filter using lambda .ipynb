{
 "cells": [
  {
   "cell_type": "markdown",
   "id": "67b9c5ed",
   "metadata": {},
   "source": [
    "### Program to add k in every element of given list"
   ]
  },
  {
   "cell_type": "code",
   "execution_count": 1,
   "id": "ce0affa8",
   "metadata": {},
   "outputs": [
    {
     "name": "stdout",
     "output_type": "stream",
     "text": [
      "the given list is :-  [1, 2, 3, 4, 5, 6, 7, 8]\n",
      "Enter the value to be added :- 4\n",
      "The list after addition is :- [5, 6, 7, 8, 9, 10, 11, 12]\n"
     ]
    }
   ],
   "source": [
    "li=[1,2,3,4,5,6,7,8]\n",
    "print('the given list is :- ',li)\n",
    "k=int(input(\"Enter the value to be added :- \"))\n",
    "res=list(map(lambda x: x+k , li))\n",
    "print('The list after addition is :-', res)"
   ]
  },
  {
   "cell_type": "code",
   "execution_count": 4,
   "id": "ded5ba28",
   "metadata": {},
   "outputs": [
    {
     "name": "stdout",
     "output_type": "stream",
     "text": [
      "Eanter the value to be added :-4\n",
      "[1, 6, 3, 8, 5, 10, 7, 12, 9]\n"
     ]
    }
   ],
   "source": [
    "li=[1,2,3,4,5,6,7,8,9]\n",
    "k=int(input('Eanter the value to be added :-'))\n",
    "res=list(map(lambda x: x+k if(x%2==0) else x ,li))\n",
    "print(res)"
   ]
  },
  {
   "cell_type": "markdown",
   "id": "4860fd54",
   "metadata": {},
   "source": [
    "### Get a list as input from user"
   ]
  },
  {
   "cell_type": "code",
   "execution_count": 9,
   "id": "dc2d72f6",
   "metadata": {},
   "outputs": [
    {
     "name": "stdout",
     "output_type": "stream",
     "text": [
      "enter the number of elements in the list :-5\n",
      "Enter the 1 elemnt\n",
      "1\n",
      "Enter the 2 elemnt\n",
      "2\n",
      "Enter the 3 elemnt\n",
      "3\n",
      "Enter the 4 elemnt\n",
      "4\n",
      "Enter the 5 elemnt\n",
      "5\n",
      "[1, 2, 3, 4, 5]\n"
     ]
    }
   ],
   "source": [
    "li=[]\n",
    "n=int(input('enter the number of elements in the list :-'))\n",
    "for i in  range(1,n+1):\n",
    "    print(f\"Enter the {i} elemnt\")\n",
    "    ele=int(input())\n",
    "    li.append(ele)\n",
    "print(li)"
   ]
  },
  {
   "cell_type": "code",
   "execution_count": 10,
   "id": "bfa6cb1a",
   "metadata": {},
   "outputs": [],
   "source": [
    "#### with file handling exception"
   ]
  },
  {
   "cell_type": "code",
   "execution_count": 13,
   "id": "4f914910",
   "metadata": {},
   "outputs": [
    {
     "name": "stdout",
     "output_type": "stream",
     "text": [
      "1\n",
      "2\n",
      "3\n",
      "4\n",
      "5\n",
      "6\n",
      "stop\n",
      "[1, 2, 3, 4, 5, 6]\n"
     ]
    }
   ],
   "source": [
    "try:\n",
    "    my_list = []\n",
    "      \n",
    "    while True:\n",
    "        \n",
    "        my_list.append(int(input()))\n",
    "          \n",
    "# if the input is not-integer, just print the list\n",
    "except:\n",
    "    print(my_list)"
   ]
  },
  {
   "cell_type": "markdown",
   "id": "1d0add30",
   "metadata": {},
   "source": [
    "### FILTER "
   ]
  },
  {
   "cell_type": "code",
   "execution_count": null,
   "id": "19e0155c",
   "metadata": {},
   "outputs": [],
   "source": [
    "li=[1,2,3,4,5,6,7,8]\n",
    "res=list(filter(lambda x: x%2==0,li))"
   ]
  },
  {
   "cell_type": "code",
   "execution_count": 15,
   "id": "593b1b84",
   "metadata": {},
   "outputs": [
    {
     "data": {
      "text/plain": [
       "[2, 4, 6, 8]"
      ]
     },
     "execution_count": 15,
     "metadata": {},
     "output_type": "execute_result"
    }
   ],
   "source": [
    "res"
   ]
  },
  {
   "cell_type": "code",
   "execution_count": null,
   "id": "c524e62a",
   "metadata": {},
   "outputs": [],
   "source": []
  },
  {
   "cell_type": "code",
   "execution_count": null,
   "id": "b5004dfd",
   "metadata": {},
   "outputs": [],
   "source": []
  },
  {
   "cell_type": "code",
   "execution_count": null,
   "id": "249119f3",
   "metadata": {},
   "outputs": [],
   "source": []
  },
  {
   "cell_type": "code",
   "execution_count": null,
   "id": "95284a08",
   "metadata": {},
   "outputs": [],
   "source": []
  },
  {
   "cell_type": "code",
   "execution_count": null,
   "id": "99ab5b7b",
   "metadata": {},
   "outputs": [],
   "source": []
  },
  {
   "cell_type": "code",
   "execution_count": null,
   "id": "32fa97b5",
   "metadata": {},
   "outputs": [],
   "source": []
  },
  {
   "cell_type": "code",
   "execution_count": null,
   "id": "f108bed0",
   "metadata": {},
   "outputs": [],
   "source": []
  },
  {
   "cell_type": "code",
   "execution_count": null,
   "id": "feb654f7",
   "metadata": {},
   "outputs": [],
   "source": []
  },
  {
   "cell_type": "code",
   "execution_count": null,
   "id": "bd916ee8",
   "metadata": {},
   "outputs": [],
   "source": []
  },
  {
   "cell_type": "code",
   "execution_count": null,
   "id": "0a81a795",
   "metadata": {},
   "outputs": [],
   "source": []
  },
  {
   "cell_type": "code",
   "execution_count": null,
   "id": "95c15fd4",
   "metadata": {},
   "outputs": [],
   "source": []
  },
  {
   "cell_type": "code",
   "execution_count": null,
   "id": "ec03c0c6",
   "metadata": {},
   "outputs": [],
   "source": []
  },
  {
   "cell_type": "code",
   "execution_count": null,
   "id": "fd196ee3",
   "metadata": {},
   "outputs": [],
   "source": []
  },
  {
   "cell_type": "code",
   "execution_count": null,
   "id": "98ddb90f",
   "metadata": {},
   "outputs": [],
   "source": []
  },
  {
   "cell_type": "code",
   "execution_count": null,
   "id": "95a2d9ae",
   "metadata": {},
   "outputs": [],
   "source": []
  },
  {
   "cell_type": "code",
   "execution_count": null,
   "id": "1867dcee",
   "metadata": {},
   "outputs": [],
   "source": []
  },
  {
   "cell_type": "code",
   "execution_count": null,
   "id": "4d3f52a8",
   "metadata": {},
   "outputs": [],
   "source": []
  },
  {
   "cell_type": "code",
   "execution_count": null,
   "id": "16a761af",
   "metadata": {},
   "outputs": [],
   "source": []
  },
  {
   "cell_type": "code",
   "execution_count": null,
   "id": "0c9ab6bf",
   "metadata": {},
   "outputs": [],
   "source": []
  }
 ],
 "metadata": {
  "kernelspec": {
   "display_name": "Python 3 (ipykernel)",
   "language": "python",
   "name": "python3"
  },
  "language_info": {
   "codemirror_mode": {
    "name": "ipython",
    "version": 3
   },
   "file_extension": ".py",
   "mimetype": "text/x-python",
   "name": "python",
   "nbconvert_exporter": "python",
   "pygments_lexer": "ipython3",
   "version": "3.9.12"
  }
 },
 "nbformat": 4,
 "nbformat_minor": 5
}
